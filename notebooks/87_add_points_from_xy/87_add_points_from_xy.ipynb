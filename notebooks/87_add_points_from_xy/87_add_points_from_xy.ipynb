{
    "cells": [
        {
            "cell_type": "markdown",
            "metadata": {},
            "source": [
                "<a href=\"https://githubtocolab.com/gee-community/geemap/blob/master/examples/notebooks/87_add_points_from_xy.ipynb\" target=\"_parent\"><img src=\"https://colab.research.google.com/assets/colab-badge.svg\" alt=\"Open in Colab\"/></a>\n",
                "\n",
                "Uncomment the following line to install [geemap](https://geemap.org) if needed."
            ]
        },
        {
            "cell_type": "code",
            "execution_count": null,
            "metadata": {},
            "outputs": [],
            "source": [
                "# !pip install geemap"
            ]
        },
        {
            "cell_type": "code",
            "execution_count": null,
            "metadata": {},
            "outputs": [],
            "source": [
                "import geemap\n",
                "import pandas as pd"
            ]
        },
        {
            "cell_type": "code",
            "execution_count": null,
            "metadata": {},
            "outputs": [],
            "source": [
                "# geemap.update_package()"
            ]
        },
        {
            "cell_type": "markdown",
            "metadata": {},
            "source": [
                "Using a CSV file containing xy coordinates"
            ]
        },
        {
            "cell_type": "code",
            "execution_count": null,
            "metadata": {},
            "outputs": [],
            "source": [
                "m = geemap.Map()\n",
                "data = 'https://raw.githubusercontent.com/giswqs/leafmap/master/examples/data/us_cities.csv'\n",
                "m.add_points_from_xy(data, x=\"longitude\", y=\"latitude\")\n",
                "m"
            ]
        },
        {
            "cell_type": "markdown",
            "metadata": {},
            "source": [
                "Using a Pandas DataFrame containing xy coordinates."
            ]
        },
        {
            "cell_type": "code",
            "execution_count": null,
            "metadata": {},
            "outputs": [],
            "source": [
                "m = geemap.Map()\n",
                "data = 'https://raw.githubusercontent.com/giswqs/leafmap/master/examples/data/us_cities.csv'\n",
                "df = pd.read_csv(data)\n",
                "m.add_points_from_xy(df, x=\"longitude\", y=\"latitude\")\n",
                "m"
            ]
        }
    ],
    "metadata": {
        "kernelspec": {
            "display_name": "Python 3",
            "language": "python",
            "name": "python3"
        }
    },
    "nbformat": 4,
    "nbformat_minor": 5
}