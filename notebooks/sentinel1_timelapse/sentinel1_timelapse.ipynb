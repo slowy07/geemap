{
 "cells": [
  {
   "cell_type": "code",
   "execution_count": null,
   "metadata": {},
   "outputs": [],
   "source": [
    "import ee\n",
    "\n",
    "ee.Initialize()"
   ]
  },
  {
   "cell_type": "code",
   "execution_count": null,
   "metadata": {},
   "outputs": [],
   "source": [
    "import geemap"
   ]
  },
  {
   "cell_type": "code",
   "execution_count": null,
   "metadata": {
    "scrolled": false
   },
   "outputs": [],
   "source": [
    "Map = geemap.Map(center=[36.15, -114.9], zoom=10)\n",
    "Map"
   ]
  },
  {
   "cell_type": "code",
   "execution_count": null,
   "metadata": {},
   "outputs": [],
   "source": [
    "sent1_ts = geemap.sentinel1_timeseries(\n",
    "    start_year='2019',\n",
    "    end_year='2022',\n",
    "    start_date='01-01',\n",
    "    end_date='06-30',\n",
    "    frequency='quarter',\n",
    "    clip=True,\n",
    ")"
   ]
  },
  {
   "cell_type": "code",
   "execution_count": null,
   "metadata": {},
   "outputs": [],
   "source": [
    "collection = sent1_ts\n",
    "\n",
    "images = collection.toList(collection.size())\n",
    "dates = geemap.image_dates(collection).getInfo()\n",
    "size = images.size().getInfo()\n",
    "\n",
    "for i in range(size):\n",
    "    image = ee.Image(images.get(i))\n",
    "    Map.addLayer(image, {'min': -18, 'max': -4}, dates[i])"
   ]
  },
  {
   "cell_type": "code",
   "execution_count": null,
   "metadata": {},
   "outputs": [],
   "source": [
    "geometry = ee.Geometry.Polygon(\n",
    "    [\n",
    "        [\n",
    "            [5.022428845214826, 47.392003920544134],\n",
    "            [5.022428845214826, 47.26331769905508],\n",
    "            [5.3681548583984195, 47.26331769905508],\n",
    "            [5.3681548583984195, 47.392003920544134],\n",
    "        ]\n",
    "    ],\n",
    "    None,\n",
    "    False,\n",
    ");"
   ]
  },
  {
   "cell_type": "code",
   "execution_count": null,
   "metadata": {},
   "outputs": [],
   "source": [
    "out = geemap.sentinel1_timelapse(\n",
    "    roi=geometry,\n",
    "    start_year='2022',\n",
    "    end_year='2022',\n",
    "    start_date='01-01',\n",
    "    end_date='07-31',\n",
    "    frequency='month',\n",
    "    frames_per_second=2,\n",
    ")"
   ]
  },
  {
   "cell_type": "code",
   "execution_count": null,
   "metadata": {},
   "outputs": [],
   "source": [
    "from IPython.display import Image\n",
    "\n",
    "Image(filename=out)"
   ]
  },
  {
   "cell_type": "code",
   "execution_count": null,
   "metadata": {},
   "outputs": [],
   "source": []
  }
 ],
 "metadata": {
  "kernelspec": {
   "display_name": "Python 3",
   "language": "python",
   "name": "python3"
  },
  "language_info": {
   "codemirror_mode": {
    "name": "ipython",
    "version": 3
   },
   "file_extension": ".py",
   "mimetype": "text/x-python",
   "name": "python",
   "nbconvert_exporter": "python",
   "pygments_lexer": "ipython3",
   "version": "3.7.6"
  }
 },
 "nbformat": 4,
 "nbformat_minor": 4
}
