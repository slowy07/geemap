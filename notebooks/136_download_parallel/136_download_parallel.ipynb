{
 "cells": [
  {
   "cell_type": "markdown",
   "metadata": {},
   "source": [
    "<a href=\"https://githubtocolab.com/gee-community/geemap/blob/master/examples/notebooks/136_download_parallel.ipynb\" target=\"_parent\"><img src=\"https://colab.research.google.com/assets/colab-badge.svg\" alt=\"Open in Colab\"/></a>\n",
    "\n",
    "**Downloading Earth Engine images in parallel**\n",
    "\n",
    "Uncomment the following line to install [geemap](https://geemap.org) if needed."
   ]
  },
  {
   "cell_type": "code",
   "execution_count": null,
   "metadata": {},
   "outputs": [],
   "source": [
    "# !pip install -U geemap"
   ]
  },
  {
   "cell_type": "code",
   "execution_count": null,
   "metadata": {},
   "outputs": [],
   "source": [
    "import ee\n",
    "import geemap"
   ]
  },
  {
   "cell_type": "code",
   "execution_count": null,
   "metadata": {},
   "outputs": [],
   "source": [
    "Map = geemap.Map(center=[14.9447, -16.6552], zoom=4)\n",
    "\n",
    "image = ee.Image('LANDSAT/LE7_TOA_5YEAR/1999_2003').select(['B4', 'B3', 'B2'])\n",
    "country_list = [\"Gambia\", \"Qatar\", \"Lebanon\", \"Jamaica\"]\n",
    "fc = ee.FeatureCollection(\"FAO/GAUL/2015/level0\").filter(\n",
    "    ee.Filter.inList(\"ADM0_NAME\", country_list)\n",
    ")\n",
    "style = {'color': 'ffff00ff', 'width': 2, 'lineType': 'solid', 'fillColor': 'ffff0060'}\n",
    "\n",
    "Map.addLayer(image, {'min': 20, 'max': 200, 'gamma': 2.0}, 'Landsat')\n",
    "Map.addLayer(fc.style(**style), {}, 'Countries')\n",
    "\n",
    "Map"
   ]
  },
  {
   "cell_type": "code",
   "execution_count": null,
   "metadata": {},
   "outputs": [],
   "source": [
    "geemap.download_ee_image_tiles_parallel(\n",
    "    image, fc, out_dir='.', scale=100, crs='EPSG:3857', column='ADM0_NAME'\n",
    ")"
   ]
  },
  {
   "cell_type": "markdown",
   "metadata": {},
   "source": [
    "The parallel downloading above takes ~18 seconds. The serial downloading below takes ~44 seconds."
   ]
  },
  {
   "cell_type": "code",
   "execution_count": null,
   "metadata": {},
   "outputs": [],
   "source": [
    "geemap.download_ee_image_tiles(\n",
    "    image, fc, out_dir='.', scale=100, crs='EPSG:3857', column='ADM0_NAME'\n",
    ")"
   ]
  }
 ],
 "metadata": {
  "kernelspec": {
   "display_name": "Python 3",
   "language": "python",
   "name": "python3"
  }
 },
 "nbformat": 4,
 "nbformat_minor": 5
}
