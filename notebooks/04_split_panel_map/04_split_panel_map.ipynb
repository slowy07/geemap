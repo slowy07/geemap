{
    "cells": [
        {
            "cell_type": "markdown",
            "metadata": {},
            "source": [
                "<a href=\"https://githubtocolab.com/gee-community/geemap/blob/master/examples/notebooks/04_split_panel_map.ipynb\" target=\"_parent\"><img src=\"https://colab.research.google.com/assets/colab-badge.svg\" alt=\"Open in Colab\"/></a>"
            ]
        },
        {
            "cell_type": "markdown",
            "metadata": {},
            "source": [
                "Uncomment the following line to install [geemap](https://geemap.org) if needed."
            ]
        },
        {
            "cell_type": "code",
            "execution_count": null,
            "metadata": {},
            "outputs": [],
            "source": [
                "# !pip install geemap"
            ]
        },
        {
            "cell_type": "code",
            "execution_count": null,
            "metadata": {},
            "outputs": [],
            "source": [
                "import geemap"
            ]
        },
        {
            "cell_type": "code",
            "execution_count": null,
            "metadata": {},
            "outputs": [],
            "source": [
                "geemap.show_youtube('9EUTX8j-YVM')"
            ]
        },
        {
            "cell_type": "code",
            "execution_count": null,
            "metadata": {},
            "outputs": [],
            "source": [
                "Map = geemap.Map()\n",
                "Map.split_map()\n",
                "Map"
            ]
        },
        {
            "cell_type": "code",
            "execution_count": null,
            "metadata": {},
            "outputs": [],
            "source": [
                "Map = geemap.Map()\n",
                "Map.split_map(left_layer='HYBRID', right_layer='ROADMAP')\n",
                "Map"
            ]
        },
        {
            "cell_type": "code",
            "execution_count": null,
            "metadata": {},
            "outputs": [],
            "source": [
                "basemaps = geemap.basemaps.keys()\n",
                "print(basemaps)"
            ]
        },
        {
            "cell_type": "code",
            "execution_count": null,
            "metadata": {},
            "outputs": [],
            "source": [
                "for basemap in basemaps:\n",
                "    print(basemap)"
            ]
        },
        {
            "cell_type": "code",
            "execution_count": null,
            "metadata": {},
            "outputs": [],
            "source": [
                "Map = geemap.Map()\n",
                "Map.split_map(\n",
                "    left_layer='NLCD 2016 CONUS Land Cover', right_layer='NLCD 2001 CONUS Land Cover'\n",
                ")\n",
                "Map"
            ]
        },
        {
            "cell_type": "code",
            "execution_count": null,
            "metadata": {},
            "outputs": [],
            "source": [
                "import ee"
            ]
        },
        {
            "cell_type": "code",
            "execution_count": null,
            "metadata": {},
            "outputs": [],
            "source": [
                "# https://developers.google.com/earth-engine/datasets/catalog/USGS_NLCD\n",
                "collection = ee.ImageCollection(\"USGS/NLCD\")\n",
                "print(collection.aggregate_array('system:id').getInfo())"
            ]
        },
        {
            "cell_type": "code",
            "execution_count": null,
            "metadata": {},
            "outputs": [],
            "source": [
                "nlcd_2001 = ee.Image('USGS/NLCD/NLCD2001').select('landcover')\n",
                "nlcd_2016 = ee.Image('USGS/NLCD/NLCD2016').select('landcover')\n",
                "\n",
                "left_layer = geemap.ee_tile_layer(nlcd_2001, {}, 'NLCD 2001')\n",
                "right_layer = geemap.ee_tile_layer(nlcd_2016, {}, 'NLCD 2016')\n",
                "\n",
                "Map = geemap.Map()\n",
                "Map.split_map(left_layer, right_layer)\n",
                "Map"
            ]
        }
    ],
    "metadata": {
        "kernelspec": {
            "display_name": "Python 3",
            "language": "python",
            "name": "python3"
        }
    },
    "nbformat": 4,
    "nbformat_minor": 5
}