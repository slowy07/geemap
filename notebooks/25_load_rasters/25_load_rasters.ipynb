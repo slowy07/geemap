{
    "cells": [
        {
            "cell_type": "markdown",
            "metadata": {},
            "source": [
                "<a href=\"https://githubtocolab.com/gee-community/geemap/blob/master/examples/notebooks/25_load_rasters.ipynb\" target=\"_parent\"><img src=\"https://colab.research.google.com/assets/colab-badge.svg\" alt=\"Open in Colab\"/></a>\n",
                "\n",
                "Uncomment the following line to install [geemap](https://geemap.org) if needed."
            ]
        },
        {
            "cell_type": "code",
            "execution_count": null,
            "metadata": {},
            "outputs": [],
            "source": [
                "# !pip install geemap"
            ]
        },
        {
            "cell_type": "markdown",
            "metadata": {},
            "source": [
                "To follow this tutorial, you need to install the [geemap] and [xarray_leaflet](https://github.com/davidbrochart/xarray_leaflet/tree/master/xarray_leaflet) Python packages. Use the following conda commands to create a conda env and install packages:\n",
                "\n",
                "- `conda create -n gee python`\n",
                "- `conda activate gee`\n",
                "- `conda install mamba -c conda-forge`\n",
                "- `mamba install geemap xarray_leaflet -c conda-forge`"
            ]
        },
        {
            "cell_type": "markdown",
            "metadata": {},
            "source": [
                "Import libraries"
            ]
        },
        {
            "cell_type": "code",
            "execution_count": null,
            "metadata": {},
            "outputs": [],
            "source": [
                "import geemap"
            ]
        },
        {
            "cell_type": "markdown",
            "metadata": {},
            "source": [
                "Specify input raster datasets"
            ]
        },
        {
            "cell_type": "code",
            "execution_count": null,
            "metadata": {},
            "outputs": [],
            "source": [
                "url1 = \"https://open.gishub.org/data/raster/landsat.tif\"\n",
                "url2 = \"https://open.gishub.org/data/raster/srtm90.tif\""
            ]
        },
        {
            "cell_type": "markdown",
            "metadata": {},
            "source": [
                "Download samples raster datasets\n",
                "\n",
                "More datasets can be downloaded from https://viewer.nationalmap.gov/basic/"
            ]
        },
        {
            "cell_type": "code",
            "execution_count": null,
            "metadata": {},
            "outputs": [],
            "source": [
                "landsat = geemap.download_file(url1, \"landsat.tif\")\n",
                "dem = geemap.download_file(url2, \"srtm90.tif\")"
            ]
        },
        {
            "cell_type": "markdown",
            "metadata": {},
            "source": [
                "Create an interactive map"
            ]
        },
        {
            "cell_type": "code",
            "execution_count": null,
            "metadata": {},
            "outputs": [],
            "source": [
                "Map = geemap.Map()"
            ]
        },
        {
            "cell_type": "markdown",
            "metadata": {},
            "source": [
                "Add local raster datasets to the map\n",
                "\n",
                "More colormap can be found at https://matplotlib.org/stable/tutorials/colors/colormaps.html"
            ]
        },
        {
            "cell_type": "code",
            "execution_count": null,
            "metadata": {},
            "outputs": [],
            "source": [
                "Map.add_raster(dem, colormap='terrain', layer_name='DEM')"
            ]
        },
        {
            "cell_type": "code",
            "execution_count": null,
            "metadata": {},
            "outputs": [],
            "source": [
                "Map.add_raster(landsat, indexes=[3, 2, 1], vmin=10, vmax=180, layer_name='Landsat')"
            ]
        },
        {
            "cell_type": "markdown",
            "metadata": {},
            "source": [
                "Display the map"
            ]
        },
        {
            "cell_type": "code",
            "execution_count": null,
            "metadata": {},
            "outputs": [],
            "source": [
                "Map"
            ]
        }
    ],
    "metadata": {
        "kernelspec": {
            "display_name": "Python 3",
            "language": "python",
            "name": "python3"
        },
        "language_info": {
            "codemirror_mode": {
                "name": "ipython",
                "version": 3
            },
            "file_extension": ".py",
            "mimetype": "text/x-python",
            "name": "python",
            "nbconvert_exporter": "python",
            "pygments_lexer": "ipython3",
            "version": "3.11.7"
        }
    },
    "nbformat": 4,
    "nbformat_minor": 5
}
