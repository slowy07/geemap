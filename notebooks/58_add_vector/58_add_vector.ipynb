{
    "cells": [
        {
            "cell_type": "markdown",
            "metadata": {},
            "source": [
                "<a href=\"https://githubtocolab.com/gee-community/geemap/blob/master/examples/notebooks/58_add_shapefile.ipynb\" target=\"_parent\"><img src=\"https://colab.research.google.com/assets/colab-badge.svg\" alt=\"Open in Colab\"/></a>\n",
                "\n",
                "Uncomment the following line to install [geemap](https://geemap.org) if needed."
            ]
        },
        {
            "cell_type": "code",
            "execution_count": null,
            "metadata": {},
            "outputs": [],
            "source": [
                "# !pip install geemap"
            ]
        },
        {
            "cell_type": "markdown",
            "metadata": {},
            "source": [
                "# How to add a shapefile, GeoJSON, and KML to the map\n",
                "\n",
                "## For ipyleaflet"
            ]
        },
        {
            "cell_type": "code",
            "execution_count": null,
            "metadata": {},
            "outputs": [],
            "source": [
                "import geemap"
            ]
        },
        {
            "cell_type": "code",
            "execution_count": null,
            "metadata": {},
            "outputs": [],
            "source": [
                "# geemap.update_package()"
            ]
        },
        {
            "cell_type": "code",
            "execution_count": null,
            "metadata": {},
            "outputs": [],
            "source": [
                "Map = geemap.Map(center=[0, 0], zoom=2)\n",
                "\n",
                "in_geojson = 'https://raw.githubusercontent.com/gee-community/geemap/master/examples/data/cable_geo.geojson'\n",
                "Map.add_geojson(in_geojson, layer_name=\"Cable lines\")\n",
                "\n",
                "Map"
            ]
        },
        {
            "cell_type": "code",
            "execution_count": null,
            "metadata": {},
            "outputs": [],
            "source": [
                "Map = geemap.Map(center=[0, 0], zoom=2)\n",
                "url = \"https://raw.githubusercontent.com/gee-community/geemap/master/examples/data/countries.geojson\"\n",
                "Map.add_geojson(\n",
                "    url, layer_name=\"Countries\", fill_colors=['red', 'yellow', 'green', 'orange']\n",
                ")\n",
                "Map"
            ]
        },
        {
            "cell_type": "code",
            "execution_count": null,
            "metadata": {},
            "outputs": [],
            "source": [
                "import random\n",
                "\n",
                "Map = geemap.Map(center=[0, 0], zoom=2)\n",
                "\n",
                "url = \"https://raw.githubusercontent.com/gee-community/geemap/master/examples/data/countries.geojson\"\n",
                "\n",
                "\n",
                "def random_color(feature):\n",
                "    return {\n",
                "        'color': 'black',\n",
                "        'fillColor': random.choice(['red', 'yellow', 'green', 'orange']),\n",
                "    }\n",
                "\n",
                "\n",
                "Map.add_geojson(url, layer_name=\"Countries\", style_callback=random_color)\n",
                "Map"
            ]
        },
        {
            "cell_type": "code",
            "execution_count": null,
            "metadata": {},
            "outputs": [],
            "source": [
                "Map = geemap.Map(center=[0, 0], zoom=2)\n",
                "\n",
                "url = \"https://raw.githubusercontent.com/gee-community/geemap/master/examples/data/countries.geojson\"\n",
                "\n",
                "style = {\n",
                "    \"stroke\": True,\n",
                "    \"color\": \"#0000ff\",\n",
                "    \"weight\": 2,\n",
                "    \"opacity\": 1,\n",
                "    \"fill\": True,\n",
                "    \"fillColor\": \"#0000ff\",\n",
                "    \"fillOpacity\": 0.1,\n",
                "}\n",
                "\n",
                "hover_style = {\"fillOpacity\": 0.7}\n",
                "\n",
                "Map.add_geojson(url, layer_name=\"Countries\", style=style, hover_style=hover_style)\n",
                "Map"
            ]
        },
        {
            "cell_type": "code",
            "execution_count": null,
            "metadata": {},
            "outputs": [],
            "source": [
                "Map = geemap.Map(center=[0, 0], zoom=2)\n",
                "\n",
                "in_shp = '../data/countries.shp'\n",
                "Map.add_shapefile(in_shp, layer_name=\"Countries\")\n",
                "\n",
                "Map"
            ]
        },
        {
            "cell_type": "code",
            "execution_count": null,
            "metadata": {},
            "outputs": [],
            "source": [
                "Map = geemap.Map()\n",
                "\n",
                "in_kml = '../data/us_states.kml'\n",
                "Map.add_kml(in_kml, layer_name=\"US States KML\")\n",
                "\n",
                "Map"
            ]
        },
        {
            "cell_type": "code",
            "execution_count": null,
            "metadata": {},
            "outputs": [],
            "source": [
                "Map = geemap.Map(center=[0, 0], zoom=2)\n",
                "url = \"https://raw.githubusercontent.com/gee-community/geemap/master/examples/data/countries.geojson\"\n",
                "Map.add_vector(\n",
                "    url, layer_name=\"Countries\", fill_colors=['red', 'yellow', 'green', 'orange']\n",
                ")\n",
                "Map"
            ]
        },
        {
            "cell_type": "markdown",
            "metadata": {},
            "source": [
                "## For folium"
            ]
        },
        {
            "cell_type": "code",
            "execution_count": null,
            "metadata": {},
            "outputs": [],
            "source": [
                "import geemap.foliumap as geemap"
            ]
        },
        {
            "cell_type": "code",
            "execution_count": null,
            "metadata": {},
            "outputs": [],
            "source": [
                "Map = geemap.Map()"
            ]
        },
        {
            "cell_type": "code",
            "execution_count": null,
            "metadata": {},
            "outputs": [],
            "source": [
                "in_shp = '../data/countries.shp'\n",
                "in_geojson = '../data/us_states.json'\n",
                "in_kml = '../data/us_states.kml'"
            ]
        },
        {
            "cell_type": "code",
            "execution_count": null,
            "metadata": {},
            "outputs": [],
            "source": [
                "Map.add_shapefile(in_shp, layer_name=\"Shapefile\")"
            ]
        },
        {
            "cell_type": "code",
            "execution_count": null,
            "metadata": {},
            "outputs": [],
            "source": [
                "Map.add_geojson(in_geojson, layer_name=\"GeoJSON\")"
            ]
        },
        {
            "cell_type": "code",
            "execution_count": null,
            "metadata": {},
            "outputs": [],
            "source": [
                "Map.add_kml(in_kml, layer_name=\"KML\")"
            ]
        },
        {
            "cell_type": "code",
            "execution_count": null,
            "metadata": {},
            "outputs": [],
            "source": [
                "Map"
            ]
        }
    ],
    "metadata": {
        "kernelspec": {
            "display_name": "Python 3",
            "language": "python",
            "name": "python3"
        }
    },
    "nbformat": 4,
    "nbformat_minor": 5
}